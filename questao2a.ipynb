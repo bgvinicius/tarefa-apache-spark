{
 "cells": [
  {
   "cell_type": "code",
   "execution_count": 1,
   "metadata": {
    "colab": {
     "base_uri": "https://localhost:8080/",
     "height": 450
    },
    "id": "VnSfzQtio550",
    "outputId": "7359d6ec-65bc-4c0c-9ae0-69580b3a83cd"
   },
   "outputs": [
    {
     "name": "stderr",
     "output_type": "stream",
     "text": [
      "Setting default log level to \""
     ]
    },
    {
     "name": "stdout",
     "output_type": "stream",
     "text": [
      "22/12/08 22:51:22 WARN NativeCodeLoader: Unable to load native-hadoop library for your platform... using builtin-java classes where applicable\n",
      "+--------------------+\n",
      "|                text|\n",
      "+--------------------+\n",
      "|This is the most ...|\n",
      "|My significant ot...|\n",
      "|We had a tour to ...|\n",
      "|Visited with my w...|\n",
      "|We went in the ni...|\n",
      "|Dont hesitate and...|\n",
      "|I enjoyed the tow...|\n",
      "|Read through the ...|\n",
      "|This by far was o...|\n",
      "|Something you hav...|\n",
      "|The views are bea...|\n",
      "|Worth spending a ...|\n",
      "|Took the tour to ...|\n",
      "|A fantastic fusio...|\n",
      "|Whatever you do i...|\n",
      "|Not to miss..beau...|\n",
      "|We visited in the...|\n",
      "|Go for sunset and...|\n",
      "|We booked weeks a...|\n",
      "|Eiffel Tower is j...|\n",
      "+--------------------+\n",
      "only showing top 20 rows\n",
      "\n"
     ]
    }
   ],
   "source": [
    "from pyspark.sql import SparkSession\n",
    "from pyspark.sql.functions import length, element_at, size, split, udf, explode, desc\n",
    "from pyspark.sql.types import StringType\n",
    "import re\n",
    "\n",
    "spark = SparkSession \\\n",
    "    .builder \\\n",
    "    .appName(\"Python Spark SQL basic example\") \\\n",
    "    .getOrCreate()\n",
    "\n",
    "eiffel_df = spark.read.json('file:///home/ec2-user/eiffel-tower-reviews.json').select('text')\n",
    "eiffel_df.show()"
   ]
  },
  {
   "cell_type": "code",
   "execution_count": 2,
   "metadata": {
    "colab": {
     "base_uri": "https://localhost:8080/"
    },
    "id": "n9LQDxwvLH7n",
    "outputId": "ccf55253-8be7-4171-d06a-91ed2f7b7701"
   },
   "outputs": [
    {
     "name": "stdout",
     "output_type": "stream",
     "text": [
      "+---------------+-----+\n",
      "|most_used_words|count|\n",
      "+---------------+-----+\n",
      "|          tower| 4184|\n",
      "|         eiffel| 3246|\n",
      "|             go| 2594|\n",
      "|          paris| 1997|\n",
      "|            see| 1973|\n",
      "|            top| 1876|\n",
      "|            get| 1833|\n",
      "|           time| 1661|\n",
      "|           view| 1581|\n",
      "|          visit| 1322|\n",
      "|          views| 1239|\n",
      "|        tickets| 1222|\n",
      "|          worth| 1164|\n",
      "|           must| 1147|\n",
      "|           went| 1120|\n",
      "|          night| 1107|\n",
      "|         tower.| 1039|\n",
      "|            day| 1038|\n",
      "|          great| 1038|\n",
      "|            one| 1024|\n",
      "+---------------+-----+\n",
      "only showing top 20 rows\n",
      "\n"
     ]
    }
   ],
   "source": [
    "from pyspark.sql.functions import col, explode, split, desc, lower\n",
    "from pyspark.ml.feature import StopWordsRemover\n",
    "\n",
    "\n",
    "stop = StopWordsRemover(inputCol='words', outputCol='most_used_words')\n",
    "stop.loadDefaultStopWords('english')\n",
    "\n",
    "eiffel_df2 = eiffel_df.select(split(lower(eiffel_df.text),' ').alias('words')).withColumnRenamed('words', 'words').na.drop()\n",
    "\n",
    "#Remove stopwords\n",
    "eiffel_df3 = stop.transform(eiffel_df2)\n",
    "eiffel_df4 = eiffel_df3.drop('words')\n",
    "\n",
    "eiffel_df5 = eiffel_df4.select(explode(eiffel_df4.most_used_words)).withColumnRenamed('col', 'most_used_words')\n",
    "eiffel_df5 = eiffel_df5.filter(eiffel_df5.most_used_words != '')\n",
    "eiffel_df6 = eiffel_df5.groupBy(eiffel_df5.most_used_words).count().orderBy(desc('count'))\n",
    "eiffel_df6.show()\n"
   ]
  },
  {
   "cell_type": "code",
   "execution_count": 3,
   "metadata": {},
   "outputs": [],
   "source": [
    "spark.stop()"
   ]
  }
 ],
 "metadata": {
  "colab": {
   "provenance": []
  },
  "kernelspec": {
   "display_name": "Python 3 (ipykernel)",
   "language": "python",
   "name": "python3"
  },
  "language_info": {
   "codemirror_mode": {
    "name": "ipython",
    "version": 3
   },
   "file_extension": ".py",
   "mimetype": "text/x-python",
   "name": "python",
   "nbconvert_exporter": "python",
   "pygments_lexer": "ipython3",
   "version": "3.7.10"
  }
 },
 "nbformat": 4,
 "nbformat_minor": 1
}
