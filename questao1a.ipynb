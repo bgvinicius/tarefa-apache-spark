{
 "cells": [
  {
   "cell_type": "code",
   "execution_count": 1,
   "id": "88c76063",
   "metadata": {},
   "outputs": [
    {
     "name": "stderr",
     "output_type": "stream",
     "text": [
      "Setting default log level to \""
     ]
    },
    {
     "name": "stdout",
     "output_type": "stream",
     "text": [
      "22/12/08 23:06:31 WARN NativeCodeLoader: Unable to load native-hadoop library for your platform... using builtin-java classes where applicable\n",
      "+--------------------+--------------------+----------+\n",
      "|                 _c1|                 _c7|       _c8|\n",
      "+--------------------+--------------------+----------+\n",
      "|@anacddd verdade,...|Wed Oct 15 14:31:...|2014-10-15|\n",
      "|              Que ñ*|Wed Oct 15 14:31:...|2014-10-15|\n",
      "| Vou quebrar a Bruna|Wed Oct 15 14:31:...|2014-10-15|\n",
      "|agora vou p segun...|Wed Oct 15 14:31:...|2014-10-15|\n",
      "|Me sinto tão bem ...|Wed Oct 15 14:31:...|2014-10-15|\n",
      "|Eu estou aqui, de...|Wed Oct 15 14:31:...|2014-10-15|\n",
      "|Quando vai embora...|Wed Oct 15 14:31:...|2014-10-15|\n",
      "|@paynecaralhudo k...|Wed Oct 15 14:31:...|2014-10-15|\n",
      "|Conceição da Barr...|Wed Oct 15 14:31:...|2014-10-15|\n",
      "| @Maniavato te amo ♥|Wed Oct 15 14:31:...|2014-10-15|\n",
      "|Alg me curtindo rs ♡|Wed Oct 15 14:31:...|2014-10-15|\n",
      "|@MiiluAA No, porq...|Wed Oct 15 14:31:...|2014-10-15|\n",
      "|#EMABiggestFansJu...|Wed Oct 15 14:31:...|2014-10-15|\n",
      "|@raizabatista dev...|Wed Oct 15 14:31:...|2014-10-15|\n",
      "|Me senti ate d fe...|Wed Oct 15 14:31:...|2014-10-15|\n",
      "|qual o sentido de...|Wed Oct 15 14:31:...|2014-10-15|\n",
      "|I'm at Lava Rápid...|Wed Oct 15 14:31:...|2014-10-15|\n",
      "|Fica comentando m...|Wed Oct 15 14:31:...|2014-10-15|\n",
      "|\"odeio que me man...|Wed Oct 15 14:31:...|2014-10-15|\n",
      "|CAMAMTEBABILONFRA...|Wed Oct 15 14:31:...|2014-10-15|\n",
      "+--------------------+--------------------+----------+\n",
      "only showing top 20 rows\n",
      "\n"
     ]
    }
   ],
   "source": [
    "from pyspark.sql import SparkSession\n",
    "from pyspark.sql.functions import to_timestamp, concat_ws, split, hour\n",
    "import re\n",
    "from utils import get_session\n",
    "\n",
    "spark = get_session()\n",
    "\n",
    "df = spark.read.csv('hdfs:///tweets/debate-tweets-001.tsv', sep='\\t').select('_c1', '_c7', '_c8')\n",
    "df.show()"
   ]
  },
  {
   "cell_type": "markdown",
   "id": "cd88883e",
   "metadata": {},
   "source": [
    "Primeiramente, processamos as colunas com os horários para obter o horário de cada tweet."
   ]
  },
  {
   "cell_type": "code",
   "execution_count": 2,
   "id": "8b43281c",
   "metadata": {},
   "outputs": [
    {
     "name": "stdout",
     "output_type": "stream",
     "text": [
      "+--------------------+--------------------+----------+----------+\n",
      "|                 _c1|                 _c7|       _c8|tweet_hour|\n",
      "+--------------------+--------------------+----------+----------+\n",
      "|@anacddd verdade,...|Wed Oct 15 14:31:...|2014-10-15|        14|\n",
      "|              Que ñ*|Wed Oct 15 14:31:...|2014-10-15|        14|\n",
      "| Vou quebrar a Bruna|Wed Oct 15 14:31:...|2014-10-15|        14|\n",
      "|agora vou p segun...|Wed Oct 15 14:31:...|2014-10-15|        14|\n",
      "|Me sinto tão bem ...|Wed Oct 15 14:31:...|2014-10-15|        14|\n",
      "|Eu estou aqui, de...|Wed Oct 15 14:31:...|2014-10-15|        14|\n",
      "|Quando vai embora...|Wed Oct 15 14:31:...|2014-10-15|        14|\n",
      "|@paynecaralhudo k...|Wed Oct 15 14:31:...|2014-10-15|        14|\n",
      "|Conceição da Barr...|Wed Oct 15 14:31:...|2014-10-15|        14|\n",
      "| @Maniavato te amo ♥|Wed Oct 15 14:31:...|2014-10-15|        14|\n",
      "|Alg me curtindo rs ♡|Wed Oct 15 14:31:...|2014-10-15|        14|\n",
      "|@MiiluAA No, porq...|Wed Oct 15 14:31:...|2014-10-15|        14|\n",
      "|#EMABiggestFansJu...|Wed Oct 15 14:31:...|2014-10-15|        14|\n",
      "|@raizabatista dev...|Wed Oct 15 14:31:...|2014-10-15|        14|\n",
      "|Me senti ate d fe...|Wed Oct 15 14:31:...|2014-10-15|        14|\n",
      "|qual o sentido de...|Wed Oct 15 14:31:...|2014-10-15|        14|\n",
      "|I'm at Lava Rápid...|Wed Oct 15 14:31:...|2014-10-15|        14|\n",
      "|Fica comentando m...|Wed Oct 15 14:31:...|2014-10-15|        14|\n",
      "|\"odeio que me man...|Wed Oct 15 14:31:...|2014-10-15|        14|\n",
      "|CAMAMTEBABILONFRA...|Wed Oct 15 14:31:...|2014-10-15|        14|\n",
      "+--------------------+--------------------+----------+----------+\n",
      "only showing top 20 rows\n",
      "\n"
     ]
    }
   ],
   "source": [
    "df = df.withColumn(\"tweet_hour\", hour(to_timestamp(concat_ws(' ',df._c8, split(df._c7, ' ')[3]))))\n",
    "df.show()"
   ]
  },
  {
   "cell_type": "markdown",
   "id": "f22a0a81",
   "metadata": {},
   "source": [
    "Com os horários de cada tweet, podemos particionar os dados em manhã, tarde e noite. Consideramos manhã como até 12H, tarde para tweets entre 12H e 19H e noite para tweets após as 19H."
   ]
  },
  {
   "cell_type": "code",
   "execution_count": 3,
   "id": "08cec2b7",
   "metadata": {},
   "outputs": [],
   "source": [
    "morning_rows = df.filter(df.tweet_hour < 12)\n",
    "afternoon_rows = df.filter((df.tweet_hour >= 12) & (df.tweet_hour <= 19 ))\n",
    "night_rows = df.filter(df.tweet_hour > 19)"
   ]
  },
  {
   "cell_type": "markdown",
   "id": "d049d72a",
   "metadata": {},
   "source": [
    "A função `persist_hashtags` salva os dados processados de volta no HDFS. A célula abaixo deleta resultados anteriores desses processamentos que já tenham sido salvos."
   ]
  },
  {
   "cell_type": "code",
   "execution_count": 4,
   "id": "88558feb",
   "metadata": {},
   "outputs": [
    {
     "name": "stdout",
     "output_type": "stream",
     "text": [
      "WARNING: log4j.properties is not found. HADOOP_CONF_DIR may be incomplete.\n",
      "rmr: DEPRECATED: Please use '-rm -r' instead.\n",
      "Deleted /user\n"
     ]
    }
   ],
   "source": [
    "!hdfs dfs -rmr /user"
   ]
  },
  {
   "cell_type": "markdown",
   "id": "13309c33",
   "metadata": {},
   "source": [
    "Para extrair as hashtags de cada tweet, aplicamos uma expressão regular para capturar as hashtags e seus conteúdos.\n",
    "Após isso, aplicamos um flatMap para transformar cada resultado em uma linha separada do dataset, por fim, aplicamos um reduce para somar a frequência de cada tweet.\n",
    "\n",
    "A etapa abaixo poderia ter sido feita de outras formas, mas optamos por converter o Dataframe para usar a API de RDD que fornece flatMap e reduce.\n",
    "\n",
    "Por fim, salvamos os dados no HDFS."
   ]
  },
  {
   "cell_type": "code",
   "execution_count": 5,
   "id": "be8991ab",
   "metadata": {},
   "outputs": [],
   "source": [
    "def persist_hashtags(df, csv_name):\n",
    "    rows_with_hashtags = df.filter(df._c1.contains(\"#\"))\n",
    "\n",
    "    hastags_only_rdd = rows_with_hashtags.rdd.flatMap(lambda r: map(lambda hashtag: (hashtag, 1), re.findall(r\"(#[A-Za-z\\d]+)\", r._c1)))\n",
    "    hashtags_with_count_rdd = hastags_only_rdd.reduceByKey(lambda x, y: x + y)\n",
    "\n",
    "    df_new = spark.createDataFrame(hashtags_with_count_rdd, [\"hashtag\", \"freq\"])\n",
    "    df_new = df_new.orderBy(df_new.freq.desc())\n",
    "    df_new.write.csv(csv_name)\n",
    "    return df_new"
   ]
  },
  {
   "cell_type": "code",
   "execution_count": 6,
   "id": "2a73c90e",
   "metadata": {},
   "outputs": [
    {
     "name": "stdout",
     "output_type": "stream",
     "text": [
      "+------------------------------+------+\n",
      "|hashtag                       |freq  |\n",
      "+------------------------------+------+\n",
      "|#EMABiggestFansJustinBieber   |100221|\n",
      "|#EMABiggestFans1D             |91176 |\n",
      "|#camilasayshi                 |10517 |\n",
      "|#TheVoiceBrasil               |2799  |\n",
      "|#DebateNaRecord               |2429  |\n",
      "|#trndnl                       |2020  |\n",
      "|#QueroDilmaTreze              |1983  |\n",
      "|#Lan                          |1940  |\n",
      "|#debatenarecord               |1854  |\n",
      "|#LinkinParkNoMultishow        |1854  |\n",
      "|#E                            |1763  |\n",
      "|#MasterChefBR                 |1324  |\n",
      "|#TwOff                        |1285  |\n",
      "|#AFazenda                     |1273  |\n",
      "|#LuaBlancoNoAgoraETarde       |1168  |\n",
      "|#askdirectioner               |1153  |\n",
      "|#KCAArgentina                 |1141  |\n",
      "|#AustinMahone                 |1084  |\n",
      "|#AustinMahoneChile            |1074  |\n",
      "|#askjadelittlemix             |1070  |\n",
      "|#QueroNoTVZ                   |1034  |\n",
      "|#CongratsOn1MChris            |988   |\n",
      "|#Vote5HEMA                    |952   |\n",
      "|#AecioEmTodoBrasil            |912   |\n",
      "|#camilasayhi                  |908   |\n",
      "|#EmTodoBrasilAecio45          |832   |\n",
      "|#AmorESexo                    |754   |\n",
      "|#MPN                          |721   |\n",
      "|#AnittaNoProgramaDoJ          |699   |\n",
      "|#love                         |680   |\n",
      "|#CosasQueQuieroYaPeroYa       |642   |\n",
      "|#McDuduzinhoNaFMODIA          |626   |\n",
      "|#HottieOfTheWeek              |593   |\n",
      "|#AMAs                         |579   |\n",
      "|#demiyourstorydoesntdefineyou |557   |\n",
      "|#LancamentoDoClipeVoceSeFoi   |556   |\n",
      "|#Beliebers                    |543   |\n",
      "|#A                            |511   |\n",
      "|#boanoite                     |509   |\n",
      "|#LancamentoDoClipeVoceSeFoiFLY|504   |\n",
      "+------------------------------+------+\n",
      "only showing top 40 rows\n",
      "\n"
     ]
    }
   ],
   "source": [
    "persist_hashtags(morning_rows, \"morning-hashtags\").show(40, truncate=False)"
   ]
  },
  {
   "cell_type": "code",
   "execution_count": 7,
   "id": "3813b842",
   "metadata": {},
   "outputs": [
    {
     "name": "stdout",
     "output_type": "stream",
     "text": [
      "+----------------------------------+-----+\n",
      "|hashtag                           |freq |\n",
      "+----------------------------------+-----+\n",
      "|#EMABiggestFans1D                 |80229|\n",
      "|#EMABiggestFansJustinBieber       |69887|\n",
      "|#StealMyGirl                      |6296 |\n",
      "|#QueroNoTVZ                       |5167 |\n",
      "|#bigpaynodanceoff                 |4310 |\n",
      "|#LuanSantanaNaHoraDoFaro          |2180 |\n",
      "|#AustinMahoneChile                |1536 |\n",
      "|#AustinMahone                     |1435 |\n",
      "|#demiyourstorydoesntdefineyou     |1301 |\n",
      "|#trndnl                           |1181 |\n",
      "|#HottieOfTheWeek                  |1042 |\n",
      "|#E                                |1040 |\n",
      "|#KCAArgentina                     |970  |\n",
      "|#EMABiggestFansArianaGrande       |954  |\n",
      "|#EMABiggestFans5SOS               |913  |\n",
      "|#Vote5HEMA                        |910  |\n",
      "|#VamosLaU                         |858  |\n",
      "|#AMAs                             |857  |\n",
      "|#UnlockMockingjay                 |834  |\n",
      "|#DomingoPregui                    |811  |\n",
      "|#WeWantZaynsSongsInFOUR           |781  |\n",
      "|#AUSTINMAHONE                     |769  |\n",
      "|#ChristianNoEncontroComFatima     |756  |\n",
      "|#SextaTodosSDVcomValentino        |752  |\n",
      "|#VoteVampsTeenAwards              |751  |\n",
      "|#AUSTINMAHONECHILE                |718  |\n",
      "|#MTVhomecoming                    |712  |\n",
      "|#QueroMuitosSeguidoresComValentino|688  |\n",
      "|#FOLLOWMELOHANTHONY               |671  |\n",
      "|#VamosColoColo                    |656  |\n",
      "|#love                             |647  |\n",
      "|#VoteforRita                      |631  |\n",
      "|#VevoLIFT                         |585  |\n",
      "|#PreOrder1DFOURDeluxe             |581  |\n",
      "|#NewE3Cover                       |575  |\n",
      "|#SigaTiuMarkitoNesseSabadoSdv     |550  |\n",
      "|#BuyLoveMeHarderOniTunes          |548  |\n",
      "|#MTVHomecoming                    |543  |\n",
      "|#PediuTocouRD                     |536  |\n",
      "|#askdirectioner                   |516  |\n",
      "+----------------------------------+-----+\n",
      "only showing top 40 rows\n",
      "\n"
     ]
    }
   ],
   "source": [
    "persist_hashtags(afternoon_rows, \"afternoon-hashtags\").show(40, truncate=False)"
   ]
  },
  {
   "cell_type": "code",
   "execution_count": null,
   "id": "6c49754d",
   "metadata": {},
   "outputs": [],
   "source": [
    "persist_hashtags(night_rows, \"night-hashtags\").show(40, truncate=False)"
   ]
  },
  {
   "cell_type": "code",
   "execution_count": null,
   "id": "13c9289c",
   "metadata": {},
   "outputs": [],
   "source": [
    "spark.stop()"
   ]
  }
 ],
 "metadata": {
  "kernelspec": {
   "display_name": "Python 3 (ipykernel)",
   "language": "python",
   "name": "python3"
  },
  "language_info": {
   "codemirror_mode": {
    "name": "ipython",
    "version": 3
   },
   "file_extension": ".py",
   "mimetype": "text/x-python",
   "name": "python",
   "nbconvert_exporter": "python",
   "pygments_lexer": "ipython3",
   "version": "3.7.10"
  }
 },
 "nbformat": 4,
 "nbformat_minor": 5
}
