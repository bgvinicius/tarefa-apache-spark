{
 "cells": [
  {
   "cell_type": "code",
   "execution_count": 1,
   "metadata": {
    "colab": {
     "base_uri": "https://localhost:8080/",
     "height": 450
    },
    "id": "VnSfzQtio550",
    "outputId": "7359d6ec-65bc-4c0c-9ae0-69580b3a83cd",
    "scrolled": false
   },
   "outputs": [
    {
     "name": "stderr",
     "output_type": "stream",
     "text": [
      "Setting default log level to \""
     ]
    },
    {
     "name": "stdout",
     "output_type": "stream",
     "text": [
      "22/12/08 22:47:14 WARN NativeCodeLoader: Unable to load native-hadoop library for your platform... using builtin-java classes where applicable\n",
      "+--------------------+--------------------+----------+\n",
      "|                 _c1|                 _c7|       _c8|\n",
      "+--------------------+--------------------+----------+\n",
      "|@anacddd verdade,...|Wed Oct 15 14:31:...|2014-10-15|\n",
      "|              Que ñ*|Wed Oct 15 14:31:...|2014-10-15|\n",
      "| Vou quebrar a Bruna|Wed Oct 15 14:31:...|2014-10-15|\n",
      "|agora vou p segun...|Wed Oct 15 14:31:...|2014-10-15|\n",
      "|Me sinto tão bem ...|Wed Oct 15 14:31:...|2014-10-15|\n",
      "|Eu estou aqui, de...|Wed Oct 15 14:31:...|2014-10-15|\n",
      "|Quando vai embora...|Wed Oct 15 14:31:...|2014-10-15|\n",
      "|@paynecaralhudo k...|Wed Oct 15 14:31:...|2014-10-15|\n",
      "|Conceição da Barr...|Wed Oct 15 14:31:...|2014-10-15|\n",
      "| @Maniavato te amo ♥|Wed Oct 15 14:31:...|2014-10-15|\n",
      "|Alg me curtindo rs ♡|Wed Oct 15 14:31:...|2014-10-15|\n",
      "|@MiiluAA No, porq...|Wed Oct 15 14:31:...|2014-10-15|\n",
      "|#EMABiggestFansJu...|Wed Oct 15 14:31:...|2014-10-15|\n",
      "|@raizabatista dev...|Wed Oct 15 14:31:...|2014-10-15|\n",
      "|Me senti ate d fe...|Wed Oct 15 14:31:...|2014-10-15|\n",
      "|qual o sentido de...|Wed Oct 15 14:31:...|2014-10-15|\n",
      "|I'm at Lava Rápid...|Wed Oct 15 14:31:...|2014-10-15|\n",
      "|Fica comentando m...|Wed Oct 15 14:31:...|2014-10-15|\n",
      "|\"odeio que me man...|Wed Oct 15 14:31:...|2014-10-15|\n",
      "|CAMAMTEBABILONFRA...|Wed Oct 15 14:31:...|2014-10-15|\n",
      "+--------------------+--------------------+----------+\n",
      "only showing top 20 rows\n",
      "\n"
     ]
    }
   ],
   "source": [
    "from pyspark.sql import SparkSession\n",
    "from pyspark.sql.functions import col, explode, split, desc, lower\n",
    "import re\n",
    "EXPRESSIONS_SIZE = 3\n",
    "\n",
    "from utils import get_session\n",
    "\n",
    "spark = get_session()\n",
    "\n",
    "df = spark.read.csv('hdfs:///tweets/debate-tweets-001.tsv', sep='\\t').select('_c1', '_c7', '_c8')\n",
    "df.show()"
   ]
  },
  {
   "cell_type": "code",
   "execution_count": 2,
   "metadata": {
    "colab": {
     "base_uri": "https://localhost:8080/"
    },
    "id": "oI2NC-7OpJRO",
    "outputId": "95bc2db8-a3a3-4c01-fa7c-c8ca146fdfc6"
   },
   "outputs": [
    {
     "name": "stdout",
     "output_type": "stream",
     "text": [
      "+--------------+-----+\n",
      "|     sentences|count|\n",
      "+--------------+-----+\n",
      "|   que o aécio|  410|\n",
      "| dilma e aécio|  241|\n",
      "|votar no aécio|  203|\n",
      "|    se o aécio|  189|\n",
      "|     o aécio é|  149|\n",
      "|   que o aecio|  135|\n",
      "|    do aécio é|  125|\n",
      "|     e o aécio|  122|\n",
      "| aécio e dilma|  114|\n",
      "|   o aécio não|  106|\n",
      "|     aécio é o|  104|\n",
      "| vota no aécio|   95|\n",
      "|   o aécio vai|   90|\n",
      "|  esse aécio é|   88|\n",
      "|    do aécio e|   83|\n",
      "|votar no aecio|   81|\n",
      "|    aécio é um|   81|\n",
      "|o aécio ganhar|   79|\n",
      "|     o aécio e|   79|\n",
      "|de aécio neves|   78|\n",
      "+--------------+-----+\n",
      "only showing top 20 rows\n",
      "\n"
     ]
    }
   ],
   "source": [
    "#Filter by tweets that contains 'Aécio' and match with other tweets that have the same sentences\n",
    "from pyspark.ml.feature import NGram\n",
    "\n",
    "df2 = df.select(split(lower(df._c1),' ').alias('words')).na.drop()\n",
    "ngram_gen = NGram(n=EXPRESSIONS_SIZE, inputCol=\"words\", outputCol=\"phrases\")\n",
    "processed_df = ngram_gen.transform(df2)\n",
    "\n",
    "df3 = processed_df.select(explode(processed_df.phrases)).withColumnRenamed('col','sentences')\n",
    "df4 = df3.filter(df3.sentences.contains('Aecio') | df3.sentences.contains('aecio') | df3.sentences.contains('aécio') | df3.sentences.contains('Aécio'))\n",
    "df5 = df4.groupBy(df4.sentences).count().orderBy(desc('count'))\n",
    "df5.show()"
   ]
  },
  {
   "cell_type": "code",
   "execution_count": 3,
   "metadata": {},
   "outputs": [],
   "source": [
    "spark.stop()"
   ]
  }
 ],
 "metadata": {
  "colab": {
   "provenance": []
  },
  "kernelspec": {
   "display_name": "Python 3 (ipykernel)",
   "language": "python",
   "name": "python3"
  },
  "language_info": {
   "codemirror_mode": {
    "name": "ipython",
    "version": 3
   },
   "file_extension": ".py",
   "mimetype": "text/x-python",
   "name": "python",
   "nbconvert_exporter": "python",
   "pygments_lexer": "ipython3",
   "version": "3.7.10"
  }
 },
 "nbformat": 4,
 "nbformat_minor": 1
}
