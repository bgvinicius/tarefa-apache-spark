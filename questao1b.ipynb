{
 "cells": [
  {
   "cell_type": "code",
   "execution_count": 1,
   "id": "88c76063",
   "metadata": {},
   "outputs": [
    {
     "name": "stderr",
     "output_type": "stream",
     "text": [
      "Setting default log level to \""
     ]
    },
    {
     "name": "stdout",
     "output_type": "stream",
     "text": [
      "22/12/08 22:39:30 WARN NativeCodeLoader: Unable to load native-hadoop library for your platform... using builtin-java classes where applicable\n",
      "+--------------------+--------------------+----------+---------+\n",
      "|                 _c1|                 _c7|       _c8|tweet_day|\n",
      "+--------------------+--------------------+----------+---------+\n",
      "|@anacddd verdade,...|Wed Oct 15 14:31:...|2014-10-15|        4|\n",
      "|              Que ñ*|Wed Oct 15 14:31:...|2014-10-15|        4|\n",
      "| Vou quebrar a Bruna|Wed Oct 15 14:31:...|2014-10-15|        4|\n",
      "|agora vou p segun...|Wed Oct 15 14:31:...|2014-10-15|        4|\n",
      "|Me sinto tão bem ...|Wed Oct 15 14:31:...|2014-10-15|        4|\n",
      "|Eu estou aqui, de...|Wed Oct 15 14:31:...|2014-10-15|        4|\n",
      "|Quando vai embora...|Wed Oct 15 14:31:...|2014-10-15|        4|\n",
      "|@paynecaralhudo k...|Wed Oct 15 14:31:...|2014-10-15|        4|\n",
      "|Conceição da Barr...|Wed Oct 15 14:31:...|2014-10-15|        4|\n",
      "| @Maniavato te amo ♥|Wed Oct 15 14:31:...|2014-10-15|        4|\n",
      "|Alg me curtindo rs ♡|Wed Oct 15 14:31:...|2014-10-15|        4|\n",
      "|@MiiluAA No, porq...|Wed Oct 15 14:31:...|2014-10-15|        4|\n",
      "|#EMABiggestFansJu...|Wed Oct 15 14:31:...|2014-10-15|        4|\n",
      "|@raizabatista dev...|Wed Oct 15 14:31:...|2014-10-15|        4|\n",
      "|Me senti ate d fe...|Wed Oct 15 14:31:...|2014-10-15|        4|\n",
      "|qual o sentido de...|Wed Oct 15 14:31:...|2014-10-15|        4|\n",
      "|I'm at Lava Rápid...|Wed Oct 15 14:31:...|2014-10-15|        4|\n",
      "|Fica comentando m...|Wed Oct 15 14:31:...|2014-10-15|        4|\n",
      "|\"odeio que me man...|Wed Oct 15 14:31:...|2014-10-15|        4|\n",
      "|CAMAMTEBABILONFRA...|Wed Oct 15 14:31:...|2014-10-15|        4|\n",
      "+--------------------+--------------------+----------+---------+\n",
      "only showing top 20 rows\n",
      "\n"
     ]
    }
   ],
   "source": [
    "from pyspark.sql import SparkSession\n",
    "from pyspark.sql.functions import to_timestamp, concat_ws, split, dayofweek\n",
    "import re\n",
    "\n",
    "from utils import get_session\n",
    "\n",
    "spark = get_session()\n",
    "\n",
    "df = spark.read.csv('hdfs:///tweets/debate-tweets-001.tsv', sep='\\t').select('_c1', '_c7', '_c8')\n",
    "df = df.withColumn(\"tweet_day\", dayofweek(to_timestamp(concat_ws(' ',df._c8, split(df._c7, ' ')[3]))))\n",
    "df.show()"
   ]
  },
  {
   "cell_type": "code",
   "execution_count": 2,
   "id": "297830c5",
   "metadata": {},
   "outputs": [
    {
     "name": "stdout",
     "output_type": "stream",
     "text": [
      "+---------+-------+\n",
      "|tweet_day|  count|\n",
      "+---------+-------+\n",
      "|        4| 748333|\n",
      "|        5|1697674|\n",
      "|        6|1515030|\n",
      "|        7|1197067|\n",
      "|        1|1488135|\n",
      "|        2| 581105|\n",
      "+---------+-------+\n",
      "\n"
     ]
    }
   ],
   "source": [
    "df_aggregated = df.groupBy('tweet_day').count()\n",
    "df_aggregated.dropna().show(40)"
   ]
  },
  {
   "cell_type": "markdown",
   "id": "caae68ce",
   "metadata": {},
   "source": [
    "Observe acima a contagem de tweets por dia da semana (onde 1 é domingo, 2 segunda, etc..). \n",
    "Note que não há nenhum tweet contabilizado na terça feira, isso acontece porque o dataset só possui dados de 6 dias da semana, indo da quarta até a segunda feira da outra semana."
   ]
  },
  {
   "cell_type": "code",
   "execution_count": 3,
   "id": "6e7be668",
   "metadata": {},
   "outputs": [],
   "source": [
    "spark.stop()"
   ]
  }
 ],
 "metadata": {
  "kernelspec": {
   "display_name": "Python 3 (ipykernel)",
   "language": "python",
   "name": "python3"
  },
  "language_info": {
   "codemirror_mode": {
    "name": "ipython",
    "version": 3
   },
   "file_extension": ".py",
   "mimetype": "text/x-python",
   "name": "python",
   "nbconvert_exporter": "python",
   "pygments_lexer": "ipython3",
   "version": "3.7.10"
  }
 },
 "nbformat": 4,
 "nbformat_minor": 5
}
