{
 "cells": [
  {
   "cell_type": "code",
   "execution_count": 1,
   "metadata": {
    "colab": {
     "base_uri": "https://localhost:8080/",
     "height": 450
    },
    "id": "VnSfzQtio550",
    "outputId": "7359d6ec-65bc-4c0c-9ae0-69580b3a83cd"
   },
   "outputs": [
    {
     "name": "stderr",
     "output_type": "stream",
     "text": [
      "Setting default log level to \""
     ]
    },
    {
     "name": "stdout",
     "output_type": "stream",
     "text": [
      "22/12/08 22:43:15 WARN NativeCodeLoader: Unable to load native-hadoop library for your platform... using builtin-java classes where applicable\n",
      "+--------------------+--------------------+----------+\n",
      "|                 _c1|                 _c7|       _c8|\n",
      "+--------------------+--------------------+----------+\n",
      "|@anacddd verdade,...|Wed Oct 15 14:31:...|2014-10-15|\n",
      "|              Que ñ*|Wed Oct 15 14:31:...|2014-10-15|\n",
      "| Vou quebrar a Bruna|Wed Oct 15 14:31:...|2014-10-15|\n",
      "|agora vou p segun...|Wed Oct 15 14:31:...|2014-10-15|\n",
      "|Me sinto tão bem ...|Wed Oct 15 14:31:...|2014-10-15|\n",
      "|Eu estou aqui, de...|Wed Oct 15 14:31:...|2014-10-15|\n",
      "|Quando vai embora...|Wed Oct 15 14:31:...|2014-10-15|\n",
      "|@paynecaralhudo k...|Wed Oct 15 14:31:...|2014-10-15|\n",
      "|Conceição da Barr...|Wed Oct 15 14:31:...|2014-10-15|\n",
      "| @Maniavato te amo ♥|Wed Oct 15 14:31:...|2014-10-15|\n",
      "|Alg me curtindo rs ♡|Wed Oct 15 14:31:...|2014-10-15|\n",
      "|@MiiluAA No, porq...|Wed Oct 15 14:31:...|2014-10-15|\n",
      "|#EMABiggestFansJu...|Wed Oct 15 14:31:...|2014-10-15|\n",
      "|@raizabatista dev...|Wed Oct 15 14:31:...|2014-10-15|\n",
      "|Me senti ate d fe...|Wed Oct 15 14:31:...|2014-10-15|\n",
      "|qual o sentido de...|Wed Oct 15 14:31:...|2014-10-15|\n",
      "|I'm at Lava Rápid...|Wed Oct 15 14:31:...|2014-10-15|\n",
      "|Fica comentando m...|Wed Oct 15 14:31:...|2014-10-15|\n",
      "|\"odeio que me man...|Wed Oct 15 14:31:...|2014-10-15|\n",
      "|CAMAMTEBABILONFRA...|Wed Oct 15 14:31:...|2014-10-15|\n",
      "+--------------------+--------------------+----------+\n",
      "only showing top 20 rows\n",
      "\n"
     ]
    }
   ],
   "source": [
    "from pyspark.sql import SparkSession\n",
    "from pyspark.sql.functions import to_timestamp, concat_ws, split, hour, to_date, dayofmonth, desc\n",
    "import re\n",
    "\n",
    "from utils import get_session\n",
    "\n",
    "spark = get_session()\n",
    "\n",
    "df = spark.read.csv('hdfs:///tweets/debate-tweets-001.tsv', sep='\\t').select('_c1', '_c7', '_c8')\n",
    "df.show()"
   ]
  },
  {
   "cell_type": "code",
   "execution_count": 2,
   "metadata": {
    "colab": {
     "base_uri": "https://localhost:8080/"
    },
    "id": "oI2NC-7OpJRO",
    "outputId": "95bc2db8-a3a3-4c01-fa7c-c8ca146fdfc6"
   },
   "outputs": [
    {
     "name": "stdout",
     "output_type": "stream",
     "text": [
      "+----------+----+------+\n",
      "|      date|hour| count|\n",
      "+----------+----+------+\n",
      "|2014-10-20|   7|  4922|\n",
      "|2014-10-20|   6| 14504|\n",
      "|2014-10-20|   5| 29497|\n",
      "|2014-10-20|   4| 57005|\n",
      "|2014-10-20|   3| 92015|\n",
      "|2014-10-20|   2|124997|\n",
      "|2014-10-20|   1|134555|\n",
      "|2014-10-20|   0|123610|\n",
      "|2014-10-19|  23| 95083|\n",
      "|2014-10-19|  22| 86629|\n",
      "|2014-10-19|  21| 77033|\n",
      "|2014-10-19|  20| 75453|\n",
      "|2014-10-19|  19| 77265|\n",
      "|2014-10-19|  18| 80192|\n",
      "|2014-10-19|  17| 73534|\n",
      "|2014-10-19|  16| 76299|\n",
      "|2014-10-19|  15| 75866|\n",
      "|2014-10-19|  14| 69949|\n",
      "|2014-10-19|  13| 55888|\n",
      "|2014-10-19|  12| 38047|\n",
      "+----------+----+------+\n",
      "only showing top 20 rows\n",
      "\n"
     ]
    }
   ],
   "source": [
    "from time import strptime\n",
    "\n",
    "#Get date and UTC time columns to create a Timestamp column\n",
    "df2 = df.withColumn('datetime',to_timestamp(concat_ws(' ',df._c8, split(df._c7, ' ')[3])))\n",
    "\n",
    "#Exclude all datetimes with null values and group by day and time\n",
    "df3 = df2.filter(df2.datetime.isNotNull()) \\\n",
    "      .groupBy(to_date(df2.datetime),hour(df2.datetime)).count() \\\n",
    "      .withColumnRenamed('to_date(datetime)','date') \\\n",
    "      .withColumnRenamed('hour(datetime)', 'hour')\n",
    "\n",
    "df4 = df3.orderBy(desc('date'), desc('hour'))\n",
    "df4.show()"
   ]
  },
  {
   "cell_type": "code",
   "execution_count": 3,
   "metadata": {},
   "outputs": [],
   "source": [
    "spark.stop()"
   ]
  }
 ],
 "metadata": {
  "colab": {
   "provenance": []
  },
  "kernelspec": {
   "display_name": "Python 3 (ipykernel)",
   "language": "python",
   "name": "python3"
  },
  "language_info": {
   "codemirror_mode": {
    "name": "ipython",
    "version": 3
   },
   "file_extension": ".py",
   "mimetype": "text/x-python",
   "name": "python",
   "nbconvert_exporter": "python",
   "pygments_lexer": "ipython3",
   "version": "3.7.10"
  }
 },
 "nbformat": 4,
 "nbformat_minor": 1
}
