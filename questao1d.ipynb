{
 "cells": [
  {
   "cell_type": "code",
   "execution_count": 1,
   "metadata": {
    "colab": {
     "base_uri": "https://localhost:8080/",
     "height": 450
    },
    "id": "VnSfzQtio550",
    "outputId": "7359d6ec-65bc-4c0c-9ae0-69580b3a83cd"
   },
   "outputs": [
    {
     "name": "stderr",
     "output_type": "stream",
     "text": [
      "Setting default log level to \""
     ]
    },
    {
     "name": "stdout",
     "output_type": "stream",
     "text": [
      "22/12/08 22:44:27 WARN NativeCodeLoader: Unable to load native-hadoop library for your platform... using builtin-java classes where applicable\n",
      "+--------------------+--------------------+----------+\n",
      "|                 _c1|                 _c7|       _c8|\n",
      "+--------------------+--------------------+----------+\n",
      "|@anacddd verdade,...|Wed Oct 15 14:31:...|2014-10-15|\n",
      "|              Que ñ*|Wed Oct 15 14:31:...|2014-10-15|\n",
      "| Vou quebrar a Bruna|Wed Oct 15 14:31:...|2014-10-15|\n",
      "|agora vou p segun...|Wed Oct 15 14:31:...|2014-10-15|\n",
      "|Me sinto tão bem ...|Wed Oct 15 14:31:...|2014-10-15|\n",
      "|Eu estou aqui, de...|Wed Oct 15 14:31:...|2014-10-15|\n",
      "|Quando vai embora...|Wed Oct 15 14:31:...|2014-10-15|\n",
      "|@paynecaralhudo k...|Wed Oct 15 14:31:...|2014-10-15|\n",
      "|Conceição da Barr...|Wed Oct 15 14:31:...|2014-10-15|\n",
      "| @Maniavato te amo ♥|Wed Oct 15 14:31:...|2014-10-15|\n",
      "|Alg me curtindo rs ♡|Wed Oct 15 14:31:...|2014-10-15|\n",
      "|@MiiluAA No, porq...|Wed Oct 15 14:31:...|2014-10-15|\n",
      "|#EMABiggestFansJu...|Wed Oct 15 14:31:...|2014-10-15|\n",
      "|@raizabatista dev...|Wed Oct 15 14:31:...|2014-10-15|\n",
      "|Me senti ate d fe...|Wed Oct 15 14:31:...|2014-10-15|\n",
      "|qual o sentido de...|Wed Oct 15 14:31:...|2014-10-15|\n",
      "|I'm at Lava Rápid...|Wed Oct 15 14:31:...|2014-10-15|\n",
      "|Fica comentando m...|Wed Oct 15 14:31:...|2014-10-15|\n",
      "|\"odeio que me man...|Wed Oct 15 14:31:...|2014-10-15|\n",
      "|CAMAMTEBABILONFRA...|Wed Oct 15 14:31:...|2014-10-15|\n",
      "+--------------------+--------------------+----------+\n",
      "only showing top 20 rows\n",
      "\n"
     ]
    }
   ],
   "source": [
    "from pyspark.sql import SparkSession\n",
    "from pyspark.sql.functions import col, explode, split, desc, lower\n",
    "import re\n",
    "EXPRESSIONS_SIZE = 3\n",
    "\n",
    "from utils import get_session\n",
    "\n",
    "spark = get_session()\n",
    "\n",
    "df = spark.read.csv('hdfs:///tweets/debate-tweets-001.tsv', sep='\\t').select('_c1', '_c7', '_c8')\n",
    "df.show()"
   ]
  },
  {
   "cell_type": "code",
   "execution_count": 2,
   "metadata": {
    "colab": {
     "base_uri": "https://localhost:8080/"
    },
    "id": "47vLNDApAvA6",
    "outputId": "75d00c9c-1890-4fcb-89d8-aabf0669a296"
   },
   "outputs": [
    {
     "name": "stdout",
     "output_type": "stream",
     "text": [
      "+------------------+-----+\n",
      "|         sentences|count|\n",
      "+------------------+-----+\n",
      "|       que a dilma|  758|\n",
      "|     cara da dilma|  452|\n",
      "|     dilma e aécio|  241|\n",
      "|       a dilma não|  228|\n",
      "|    votar na dilma|  214|\n",
      "|       com a dilma|  203|\n",
      "|         a dilma é|  191|\n",
      "|        se a dilma|  187|\n",
      "|        a dilma ta|  185|\n",
      "|         a dilma e|  183|\n",
      "|         e a dilma|  180|\n",
      "|       a dilma vai|  172|\n",
      "|        da dilma e|  158|\n",
      "|        da dilma é|  149|\n",
      "|         dilma e o|  137|\n",
      "|dilma passando mal|  135|\n",
      "|         q a dilma|  129|\n",
      "|     entre dilma e|  118|\n",
      "|        a dilma tá|  114|\n",
      "|     aécio e dilma|  114|\n",
      "+------------------+-----+\n",
      "only showing top 20 rows\n",
      "\n"
     ]
    }
   ],
   "source": [
    "#Filter by tweets that contains 'Dilma' and match with other tweets that have the same sentences\n",
    "from pyspark.ml.feature import NGram\n",
    "\n",
    "df2 = df.select(split(lower(df._c1),' ').alias('words')).na.drop()\n",
    "ngram_gen = NGram(n=EXPRESSIONS_SIZE, inputCol=\"words\", outputCol=\"phrases\")\n",
    "processed_df = ngram_gen.transform(df2)\n",
    "\n",
    "df3 = processed_df.select(explode(processed_df.phrases)).withColumnRenamed('col','sentences')\n",
    "df4 = df3.filter(df3.sentences.contains('Dilma') | df3.sentences.contains('dilma'))\n",
    "df5 = df4.groupBy(df4.sentences).count().orderBy(desc('count'))\n",
    "df5.show()"
   ]
  },
  {
   "cell_type": "code",
   "execution_count": 3,
   "metadata": {},
   "outputs": [],
   "source": [
    "spark.stop()"
   ]
  }
 ],
 "metadata": {
  "colab": {
   "provenance": []
  },
  "kernelspec": {
   "display_name": "Python 3 (ipykernel)",
   "language": "python",
   "name": "python3"
  },
  "language_info": {
   "codemirror_mode": {
    "name": "ipython",
    "version": 3
   },
   "file_extension": ".py",
   "mimetype": "text/x-python",
   "name": "python",
   "nbconvert_exporter": "python",
   "pygments_lexer": "ipython3",
   "version": "3.7.10"
  }
 },
 "nbformat": 4,
 "nbformat_minor": 1
}
